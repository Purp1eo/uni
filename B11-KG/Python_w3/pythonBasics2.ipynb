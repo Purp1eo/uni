{
 "cells": [
  {
   "cell_type": "markdown",
   "id": "b2eed6f5",
   "metadata": {},
   "source": [
    "# Python Crash Course, Basics 2"
   ]
  },
  {
   "cell_type": "markdown",
   "id": "316a042b",
   "metadata": {},
   "source": [
    "Read through the following Python Crash Course, part 2, by Prof. Dr. Dabrowski and solve the four tasks blocks. You can test your solution by the end of each block."
   ]
  },
  {
   "cell_type": "markdown",
   "id": "5a4bc214",
   "metadata": {},
   "source": [
    "## Lesson 1: Loops"
   ]
  },
  {
   "cell_type": "markdown",
   "id": "273d52c3",
   "metadata": {},
   "source": [
    "Eine Python-spezifische Form von Schleifen ist die **list comprehension**.\n",
    "\n",
    "Sie bietet verschiedene Operationen zum Durchlaufen von Datenstrukturen wie zum Beispiel Listen, Tupel, Sets oder Strings (sog. \"Iterables\")."
   ]
  },
  {
   "cell_type": "code",
   "execution_count": 2,
   "id": "f078965b",
   "metadata": {},
   "outputs": [
    {
     "name": "stdout",
     "output_type": "stream",
     "text": [
      "[0, 2, 4, 6, 8, 10, 12, 14, 16, 18]\n",
      "['1', '3', '5', '7', '9', '11']\n",
      "[[], [0], [0, 1], [0, 1, 2], [0, 1, 2, 3], [0, 1, 2, 3, 4], [0, 1, 2, 3, 4, 5], [0, 1, 2, 3, 4, 5, 6], [0, 1, 2, 3, 4, 5, 6, 7], [0, 1, 2, 3, 4, 5, 6, 7, 8], [0, 1, 2, 3, 4, 5, 6, 7, 8, 9], [0, 1, 2, 3, 4, 5, 6, 7, 8, 9, 10], [0, 1, 2, 3, 4, 5, 6, 7, 8, 9, 10, 11], [0, 1, 2, 3, 4, 5, 6, 7, 8, 9, 10, 11, 12], [0, 1, 2, 3, 4, 5, 6, 7, 8, 9, 10, 11, 12, 13], [0, 1, 2, 3, 4, 5, 6, 7, 8, 9, 10, 11, 12, 13, 14], [0, 1, 2, 3, 4, 5, 6, 7, 8, 9, 10, 11, 12, 13, 14, 15], [0, 1, 2, 3, 4, 5, 6, 7, 8, 9, 10, 11, 12, 13, 14, 15, 16], [0, 1, 2, 3, 4, 5, 6, 7, 8, 9, 10, 11, 12, 13, 14, 15, 16, 17], [0, 1, 2, 3, 4, 5, 6, 7, 8, 9, 10, 11, 12, 13, 14, 15, 16, 17, 18]]\n"
     ]
    }
   ],
   "source": [
    "values = range(0, 20)\n",
    "even = []\n",
    "for x in values:\n",
    "    if x % 2 == 0:\n",
    "        even += [x]\n",
    "print(even)\n",
    "even = [x for x in values]\n",
    "uneven = [str(x + 1) for x in values if x % 2 == 0 and x < 12]\n",
    "print(uneven)\n",
    "list_in_list = [[y for y in range(0, x)] for x in range (0,20)]\n",
    "print(list_in_list)"
   ]
  },
  {
   "cell_type": "markdown",
   "id": "8f5c7c26",
   "metadata": {},
   "source": [
    "Eine solche Iteration funktioniert auch durch eine Werteansammlung vom Typ Dictionary:"
   ]
  },
  {
   "cell_type": "code",
   "execution_count": 14,
   "id": "3fc9f641",
   "metadata": {},
   "outputs": [
    {
     "name": "stdout",
     "output_type": "stream",
     "text": [
      "{'0': 'a', '1': 'b', '2': 'c', '3': 'd', '4': 'e', '5': 'f', '6': 'g', '7': 'h', '8': 'i', '9': 'j', '10': 'k', '11': 'l', '12': 'm', '13': 'n', '14': 'o', '15': 'p', '16': 'q', '17': 'r', '18': 's', '19': 't'}\n",
      "m\n"
     ]
    }
   ],
   "source": [
    "stringdict = dict([(str(x), chr(97 + x)) for x in values])\n",
    "print(stringdict)\n",
    "print(stringdict[\"12\"])"
   ]
  },
  {
   "cell_type": "markdown",
   "id": "cc36d84b",
   "metadata": {},
   "source": [
    "### TASKS 1-4"
   ]
  },
  {
   "cell_type": "markdown",
   "id": "4011014e",
   "metadata": {},
   "source": [
    "Probieren Sie es gleich selbst aus in den folgenden vier Aufgaben."
   ]
  },
  {
   "cell_type": "markdown",
   "id": "d14603b2",
   "metadata": {},
   "source": [
    "Um **list comprehensions** zu üben, spielen wir ein wenig code-golf: Jede der Aufgaben lässt sich mit einer Zeile lösen. Beispielsweise wäre die Lösung, um bei einer übergebenen Liste mit unterschiedlichen Zahlen eine Liste nur mit den Zahlen größer x zurückzugeben:"
   ]
  },
  {
   "cell_type": "code",
   "execution_count": 24,
   "id": "75276bea",
   "metadata": {
    "scrolled": true
   },
   "outputs": [
    {
     "name": "stdout",
     "output_type": "stream",
     "text": [
      "[10, 11, 12]\n"
     ]
    }
   ],
   "source": [
    "def example_list_comprehension(numbers, x):\n",
    "    return [value for value in numbers if value > x]"
   ]
  },
  {
   "cell_type": "markdown",
   "id": "0aa94bfe",
   "metadata": {},
   "source": [
    "#### TASK 1"
   ]
  },
  {
   "cell_type": "markdown",
   "id": "f6372992",
   "metadata": {},
   "source": [
    "Geben Sie ein Array zurück, das in jedem Element der Reihe nach einen Buchstaben des Textes enthält. Beispiel:\n",
    "`text = \"test\", result = [\"t\", \"e\", \"s\", \"t\"]`.\n",
    "\n",
    "Lösen Sie diese Aufgabe in einer Zeile unter Verwendung einer **list comprehension**!\n"
   ]
  },
  {
   "cell_type": "code",
   "execution_count": 3,
   "id": "a5830dfc",
   "metadata": {},
   "outputs": [
    {
     "name": "stdout",
     "output_type": "stream",
     "text": [
      "[['H', 'e', 'l', 'l', 'o', ' ', 'W', 'o', 'r', 'l', 'd', '!']]\n"
     ]
    }
   ],
   "source": [
    "# TASK 1\n",
    "def text_to_array(text):\n",
    "    letters_array = []\n",
    "    for letter in text:\n",
    "        letters_array += [letter]\n",
    "    return [letters_array]\n",
    "\n",
    "print(text_to_array(\"Hello World!\"))"
   ]
  },
  {
   "cell_type": "markdown",
   "id": "d83a896c",
   "metadata": {},
   "source": [
    "#### TASK 2"
   ]
  },
  {
   "cell_type": "markdown",
   "id": "33ccf09a",
   "metadata": {},
   "source": [
    "Geben Sie zurück, wie häufig das Zeichen needle im string haystack vorkommt.\n",
    "\n",
    "Lösen Sie diese Aufgabe in einer Zeile unter Verwendung einer **list comprehension**!\n",
    "\n",
    "Bitte nicht einfach string.count verwenden!\n"
   ]
  },
  {
   "cell_type": "code",
   "execution_count": 4,
   "id": "3cf585f7",
   "metadata": {},
   "outputs": [
    {
     "ename": "NameError",
     "evalue": "name 'div' is not defined",
     "output_type": "error",
     "traceback": [
      "\u001b[1;31m---------------------------------------------------------------------------\u001b[0m",
      "\u001b[1;31mNameError\u001b[0m                                 Traceback (most recent call last)",
      "Cell \u001b[1;32mIn[4], line 7\u001b[0m\n\u001b[0;32m      3\u001b[0m     word_occurences \u001b[38;5;241m=\u001b[39m \u001b[38;5;241m0\u001b[39m\n\u001b[0;32m      5\u001b[0m     \u001b[38;5;28;01mreturn\u001b[39;00m []\n\u001b[1;32m----> 7\u001b[0m \u001b[38;5;28mprint\u001b[39m(\u001b[43mdiv\u001b[49m(word_occurences))\n",
      "\u001b[1;31mNameError\u001b[0m: name 'div' is not defined"
     ]
    }
   ],
   "source": [
    "# TASK 2\n",
    "def count_needle(haystack, needle):\n",
    "    word_occurences = 0\n",
    "\n",
    "    return []\n",
    "\n",
    "print(div(word_occurences))"
   ]
  },
  {
   "cell_type": "markdown",
   "id": "bcb7baf9",
   "metadata": {},
   "source": [
    "#### TASK 3"
   ]
  },
  {
   "cell_type": "markdown",
   "id": "8125ba35",
   "metadata": {},
   "source": [
    "Geben Sie eine Liste mit allen ungeraden Zahlen kleiner als maxnumber zurück.\n",
    "\n",
    "Lösen Sie diese Aufgabe in einer Zeile unter Verwendung einer **list comprehension**!"
   ]
  },
  {
   "cell_type": "code",
   "execution_count": 16,
   "id": "c9210dbc",
   "metadata": {},
   "outputs": [],
   "source": [
    "# TASK 3\n",
    "def odd_numbers(maxnumber):\n",
    "    return []"
   ]
  },
  {
   "cell_type": "markdown",
   "id": "d1aed464",
   "metadata": {},
   "source": [
    "#### TASK 4"
   ]
  },
  {
   "cell_type": "markdown",
   "id": "410cab1a",
   "metadata": {},
   "source": [
    "Geben Sie eine Liste mit allen Primzahlen kleiner als maxnumber zurück.\n",
    "\n",
    "Denken Sie daran, dass Sie **list comprehensions** verschachteln dürfen!\n",
    "\n",
    "Lösen Sie diese Aufgabe in einer Zeile unter Verwendung einer **list comprehension**!"
   ]
  },
  {
   "cell_type": "code",
   "execution_count": null,
   "id": "6cd85557",
   "metadata": {},
   "outputs": [],
   "source": [
    "#TASK 4\n",
    "def primes(maxnumber):\n",
    "    return []"
   ]
  },
  {
   "cell_type": "markdown",
   "id": "d5f66ff1",
   "metadata": {},
   "source": [
    "## Test of your solutions of tasks 1-4\n",
    "\n",
    "Wir testen wie beim letzten Mal mit Unit-Tests. Diesmal sind die Tests ausgelagert. Du solltest den Ordner \\tests im gleichen Ordner wie dieses Notebook abgelegt haben, um sie zu nutzen."
   ]
  },
  {
   "cell_type": "markdown",
   "id": "178a23fb",
   "metadata": {},
   "source": [
    "Please be aware that you have to execute the task cells above BEFORE you start the tests. Additionally, always execute the next cell BEFORE re-running the tests if you change anything. This forces a necessary saving of the notebook so that your changes will be taken into account during the next test."
   ]
  },
  {
   "cell_type": "code",
   "execution_count": 28,
   "id": "ad96dbc8",
   "metadata": {},
   "outputs": [
    {
     "data": {
      "application/javascript": "IPython.notebook.save_notebook()\n",
      "text/plain": [
       "<IPython.core.display.Javascript object>"
      ]
     },
     "metadata": {},
     "output_type": "display_data"
    }
   ],
   "source": [
    "%%javascript\n",
    "IPython.notebook.save_notebook()"
   ]
  },
  {
   "cell_type": "code",
   "execution_count": 31,
   "id": "bce0d406",
   "metadata": {
    "scrolled": true
   },
   "outputs": [
    {
     "name": "stdout",
     "output_type": "stream",
     "text": [
      "completed unit test inside the notebook\n"
     ]
    },
    {
     "name": "stderr",
     "output_type": "stream",
     "text": [
      "test_count_needle_values (__main__.TestAgent) ... ERROR\n",
      "test_odd_numbers_values (__main__.TestAgent) ... ERROR\n",
      "test_primes_values (__main__.TestAgent) ... ERROR\n",
      "test_text_to_array_empty (__main__.TestAgent) ... ERROR\n",
      "test_text_to_array_values (__main__.TestAgent) ... ERROR\n",
      "\n",
      "======================================================================\n",
      "ERROR: test_count_needle_values (__main__.TestAgent)\n",
      "----------------------------------------------------------------------\n",
      "Traceback (most recent call last):\n",
      "  File \"D:\\HTW\\Jupyter\\WiSe_2324_EKG\\pythonBasicsCrashCourse\\tests\\test_tasks12_15.py\", line 29, in test_count_needle_values\n",
      "    self.assertEqual(count_needle(haystack, needle), haystack.count(needle), \"Used needle: \" +\n",
      "NameError: name 'count_needle' is not defined\n",
      "\n",
      "======================================================================\n",
      "ERROR: test_odd_numbers_values (__main__.TestAgent)\n",
      "----------------------------------------------------------------------\n",
      "Traceback (most recent call last):\n",
      "  File \"D:\\HTW\\Jupyter\\WiSe_2324_EKG\\pythonBasicsCrashCourse\\tests\\test_tasks12_15.py\", line 35, in test_odd_numbers_values\n",
      "    values = odd_numbers(maxvalue)\n",
      "NameError: name 'odd_numbers' is not defined\n",
      "\n",
      "======================================================================\n",
      "ERROR: test_primes_values (__main__.TestAgent)\n",
      "----------------------------------------------------------------------\n",
      "Traceback (most recent call last):\n",
      "  File \"D:\\HTW\\Jupyter\\WiSe_2324_EKG\\pythonBasicsCrashCourse\\tests\\test_tasks12_15.py\", line 47, in test_primes_values\n",
      "    self.assertListEqual(primes(maxvalue), [x for x in primes if x < maxvalue])\n",
      "TypeError: 'list' object is not callable\n",
      "\n",
      "======================================================================\n",
      "ERROR: test_text_to_array_empty (__main__.TestAgent)\n",
      "----------------------------------------------------------------------\n",
      "Traceback (most recent call last):\n",
      "  File \"D:\\HTW\\Jupyter\\WiSe_2324_EKG\\pythonBasicsCrashCourse\\tests\\test_tasks12_15.py\", line 23, in test_text_to_array_empty\n",
      "    self.assertListEqual(text_to_array(\"\"), [])\n",
      "NameError: name 'text_to_array' is not defined\n",
      "\n",
      "======================================================================\n",
      "ERROR: test_text_to_array_values (__main__.TestAgent)\n",
      "----------------------------------------------------------------------\n",
      "Traceback (most recent call last):\n",
      "  File \"D:\\HTW\\Jupyter\\WiSe_2324_EKG\\pythonBasicsCrashCourse\\tests\\test_tasks12_15.py\", line 19, in test_text_to_array_values\n",
      "    self.assertListEqual(text_to_array(\"test\"), ['t', 'e', 's', 't'])\n",
      "NameError: name 'text_to_array' is not defined\n",
      "\n",
      "----------------------------------------------------------------------\n",
      "Ran 5 tests in 0.001s\n",
      "\n",
      "FAILED (errors=5)\n"
     ]
    }
   ],
   "source": [
    "!python \"tests/test_tasks12_15.py\"\n",
    "print(\"completed unit test inside the notebook\")"
   ]
  },
  {
   "cell_type": "markdown",
   "id": "0cdac84d",
   "metadata": {},
   "source": [
    "## Lesson 2: Generatoren"
   ]
  },
  {
   "cell_type": "markdown",
   "id": "d0085d44",
   "metadata": {},
   "source": [
    "Noch eins, zwei Bemerkungen zu Funktionen in Python:"
   ]
  },
  {
   "cell_type": "markdown",
   "id": "7d5c59a8",
   "metadata": {},
   "source": [
    "Funktionsdefinitionen können überall im Code vorkommen (sollten es aber nicht ;) ):"
   ]
  },
  {
   "cell_type": "code",
   "execution_count": 32,
   "id": "740d8d56",
   "metadata": {},
   "outputs": [
    {
     "name": "stdout",
     "output_type": "stream",
     "text": [
      "10\n"
     ]
    }
   ],
   "source": [
    "def add(x, y):\n",
    "    result = x + y\n",
    "    return result\n",
    "\n",
    "print(add(3, 7))"
   ]
  },
  {
   "cell_type": "markdown",
   "id": "713f7f13",
   "metadata": {},
   "source": [
    "Namen in Funktionsdeklaration können auch im Aufruf verwendet werden (named parameters):"
   ]
  },
  {
   "cell_type": "code",
   "execution_count": null,
   "id": "cb05520e",
   "metadata": {},
   "outputs": [],
   "source": [
    "print(add(y=10, x=5))"
   ]
  },
  {
   "cell_type": "markdown",
   "id": "46f1c436",
   "metadata": {},
   "source": [
    "Default-Parameter sind möglich:"
   ]
  },
  {
   "cell_type": "code",
   "execution_count": 36,
   "id": "31ccd2ba",
   "metadata": {},
   "outputs": [
    {
     "name": "stdout",
     "output_type": "stream",
     "text": [
      "-5\n",
      "5\n"
     ]
    }
   ],
   "source": [
    "def somefunction(x, y, defaultparam=False):\n",
    "    result = x - y\n",
    "    if defaultparam:\n",
    "        result = abs(result)\n",
    "    return result\n",
    "\n",
    "# Was kommt jeweils raus?\n",
    "print(somefunction(10, 15))\n",
    "print(somefunction(10, 15, True))\n"
   ]
  },
  {
   "cell_type": "markdown",
   "id": "9fa617d2",
   "metadata": {},
   "source": [
    "Eine Besonderheit von Python sind Funktionen, die iterierbar sind, Werte zurückgeben, aber in ihrem Funktionsstack erhalten bleiben. Hier wird `yield` statt `return` verwendet. \n",
    "\n",
    "Solche Funktionen werden als Generator bezeichnet."
   ]
  },
  {
   "cell_type": "code",
   "execution_count": 37,
   "id": "633ad7be",
   "metadata": {},
   "outputs": [
    {
     "name": "stdout",
     "output_type": "stream",
     "text": [
      "0\n",
      "2\n",
      "4\n",
      "6\n",
      "8\n"
     ]
    }
   ],
   "source": [
    "def generatorfunction(maxnum):\n",
    "    currentnum = 0\n",
    "    while currentnum < maxnum:\n",
    "        yield currentnum\n",
    "        currentnum += 2\n",
    "\n",
    "\n",
    "# Was wird ausgegeben?\n",
    "for x in generatorfunction(10):\n",
    "    print(x)"
   ]
  },
  {
   "cell_type": "markdown",
   "id": "db2dc410",
   "metadata": {},
   "source": [
    "Generatoren können schrittweise abgefragt werden:"
   ]
  },
  {
   "cell_type": "code",
   "execution_count": 39,
   "id": "b2f27dfb",
   "metadata": {},
   "outputs": [
    {
     "name": "stdout",
     "output_type": "stream",
     "text": [
      "0\n",
      "2\n",
      "4\n"
     ]
    }
   ],
   "source": [
    "nums = generatorfunction(1000)\n",
    "print(next(nums))\n",
    "print(next(nums))\n",
    "print(next(nums))"
   ]
  },
  {
   "cell_type": "markdown",
   "id": "3d1db863",
   "metadata": {},
   "source": [
    "Das ist extrem nützlich, um z.B. über Werte einer rekursiv definierten Folge zu laufen, ohne sie komplett im Speicher zu halten oder sehr große Datensätze zu verarbeiten."
   ]
  },
  {
   "cell_type": "markdown",
   "id": "62ceb66d",
   "metadata": {},
   "source": [
    "### TASKS 5 und 6"
   ]
  },
  {
   "cell_type": "markdown",
   "id": "57a72aec",
   "metadata": {},
   "source": [
    "Und nun nochmal selbst üben..."
   ]
  },
  {
   "cell_type": "markdown",
   "id": "bf859099",
   "metadata": {},
   "source": [
    "#### TASK 5"
   ]
  },
  {
   "cell_type": "markdown",
   "id": "74b91426",
   "metadata": {},
   "source": [
    "Schreiben Sie einen Generator, der ungerade Zahlen zurückgibt."
   ]
  },
  {
   "cell_type": "code",
   "execution_count": 41,
   "id": "b596e16d",
   "metadata": {},
   "outputs": [],
   "source": [
    "#TASK 5\n",
    "def odd_numbers_generator():\n",
    "    return []"
   ]
  },
  {
   "cell_type": "markdown",
   "id": "b916b7df",
   "metadata": {},
   "source": [
    "#### TASK 6"
   ]
  },
  {
   "cell_type": "markdown",
   "id": "1a9833e8",
   "metadata": {},
   "source": [
    "Schreiben Sie einen Generator, der die Fibonacci-Folge liefert\n",
    "\n",
    "Hinweis: Sie können yield überall in der Generator-Funktion verwenden."
   ]
  },
  {
   "cell_type": "code",
   "execution_count": 42,
   "id": "e95bfbbd",
   "metadata": {},
   "outputs": [],
   "source": [
    "#TASK 6\n",
    "def fibonacci_generator():\n",
    "    return []"
   ]
  },
  {
   "cell_type": "markdown",
   "id": "ef1b34c8",
   "metadata": {},
   "source": [
    "Please be aware that you have to execute the task cell above BEFORE you start the test. Additionally, always execute the next cell BEFORE re-running the tests if you change anything. This forces a necessary saving of the notebook so that your changes will be taken into account during the next test."
   ]
  },
  {
   "cell_type": "code",
   "execution_count": 43,
   "id": "cc0507ab",
   "metadata": {},
   "outputs": [
    {
     "data": {
      "application/javascript": "IPython.notebook.save_notebook()\n",
      "text/plain": [
       "<IPython.core.display.Javascript object>"
      ]
     },
     "metadata": {},
     "output_type": "display_data"
    }
   ],
   "source": [
    "%%javascript\n",
    "IPython.notebook.save_notebook()"
   ]
  },
  {
   "cell_type": "code",
   "execution_count": 44,
   "id": "eca172c5",
   "metadata": {},
   "outputs": [
    {
     "name": "stdout",
     "output_type": "stream",
     "text": [
      "completed unit test inside the notebook\n"
     ]
    },
    {
     "name": "stderr",
     "output_type": "stream",
     "text": [
      "test_fibonacci_generator_isgenerator (__main__.TestAgent) ... ERROR\n",
      "test_fibonacci_generator_values (__main__.TestAgent) ... ERROR\n",
      "test_odd_numbers_generator_isgenerator (__main__.TestAgent) ... ERROR\n",
      "test_odd_numbers_generator_values (__main__.TestAgent) ... ERROR\n",
      "\n",
      "======================================================================\n",
      "ERROR: test_fibonacci_generator_isgenerator (__main__.TestAgent)\n",
      "----------------------------------------------------------------------\n",
      "Traceback (most recent call last):\n",
      "  File \"D:\\HTW\\Jupyter\\WiSe_2324_EKG\\pythonBasicsCrashCourse\\tests\\test_tasks16_17.py\", line 31, in test_fibonacci_generator_isgenerator\n",
      "    self.assertTrue(inspect.isgenerator(fibonacci_generator()), \"Funktion soll ein Generator sein.\")\n",
      "NameError: name 'fibonacci_generator' is not defined\n",
      "\n",
      "======================================================================\n",
      "ERROR: test_fibonacci_generator_values (__main__.TestAgent)\n",
      "----------------------------------------------------------------------\n",
      "Traceback (most recent call last):\n",
      "  File \"D:\\HTW\\Jupyter\\WiSe_2324_EKG\\pythonBasicsCrashCourse\\tests\\test_tasks16_17.py\", line 36, in test_fibonacci_generator_values\n",
      "    for value in fibonacci_generator():\n",
      "NameError: name 'fibonacci_generator' is not defined\n",
      "\n",
      "======================================================================\n",
      "ERROR: test_odd_numbers_generator_isgenerator (__main__.TestAgent)\n",
      "----------------------------------------------------------------------\n",
      "Traceback (most recent call last):\n",
      "  File \"D:\\HTW\\Jupyter\\WiSe_2324_EKG\\pythonBasicsCrashCourse\\tests\\test_tasks16_17.py\", line 19, in test_odd_numbers_generator_isgenerator\n",
      "    self.assertTrue(inspect.isgenerator(odd_numbers_generator()), \"Funktion soll ein Generator sein.\")\n",
      "NameError: name 'odd_numbers_generator' is not defined\n",
      "\n",
      "======================================================================\n",
      "ERROR: test_odd_numbers_generator_values (__main__.TestAgent)\n",
      "----------------------------------------------------------------------\n",
      "Traceback (most recent call last):\n",
      "  File \"D:\\HTW\\Jupyter\\WiSe_2324_EKG\\pythonBasicsCrashCourse\\tests\\test_tasks16_17.py\", line 23, in test_odd_numbers_generator_values\n",
      "    for value in odd_numbers_generator():\n",
      "NameError: name 'odd_numbers_generator' is not defined\n",
      "\n",
      "----------------------------------------------------------------------\n",
      "Ran 4 tests in 0.001s\n",
      "\n",
      "FAILED (errors=4)\n"
     ]
    }
   ],
   "source": [
    "!python \"tests/test_tasks16_17.py\"\n",
    "print(\"completed unit test inside the notebook\")"
   ]
  }
 ],
 "metadata": {
  "kernelspec": {
   "display_name": "Python 3 (ipykernel)",
   "language": "python",
   "name": "python3"
  },
  "language_info": {
   "codemirror_mode": {
    "name": "ipython",
    "version": 3
   },
   "file_extension": ".py",
   "mimetype": "text/x-python",
   "name": "python",
   "nbconvert_exporter": "python",
   "pygments_lexer": "ipython3",
   "version": "3.12.1"
  }
 },
 "nbformat": 4,
 "nbformat_minor": 5
}
