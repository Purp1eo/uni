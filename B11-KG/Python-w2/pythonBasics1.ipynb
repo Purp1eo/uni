{
 "cells": [
  {
   "cell_type": "markdown",
   "id": "b2eed6f5",
   "metadata": {},
   "source": [
    "# Python Crash Course, Basics 1"
   ]
  },
  {
   "cell_type": "markdown",
   "id": "316a042b",
   "metadata": {},
   "source": [
    "Read through the following Python Crash Course, part 1, by Prof. Dr. Dabrowski and solve the four tasks blocks. You can test your solution by the end of each block."
   ]
  },
  {
   "cell_type": "markdown",
   "id": "5a4bc214",
   "metadata": {},
   "source": [
    "## Lesson 1: Working with variables"
   ]
  },
  {
   "cell_type": "markdown",
   "id": "273d52c3",
   "metadata": {},
   "source": [
    "### Variables do not have type declarations"
   ]
  },
  {
   "cell_type": "code",
   "execution_count": null,
   "id": "f078965b",
   "metadata": {},
   "outputs": [],
   "source": [
    "x = 5\n",
    "x += 3\n",
    "y = 2*x\n",
    "print(y)"
   ]
  },
  {
   "cell_type": "markdown",
   "id": "ac75b4fd",
   "metadata": {},
   "source": [
    "### Usual operations with variables"
   ]
  },
  {
   "cell_type": "markdown",
   "id": "b7620a30",
   "metadata": {},
   "source": [
    "The usual operations work just as expected."
   ]
  },
  {
   "cell_type": "code",
   "execution_count": null,
   "id": "492d68fe",
   "metadata": {},
   "outputs": [],
   "source": [
    "# Modulo:\n",
    "print(y%3)\n",
    "\n",
    "# Floor:\n",
    "print(y//3)\n",
    "\n",
    "# Exponents:\n",
    "print(y**4)\n",
    "\n",
    "# All operations can be combined with assignment:\n",
    "y %= 3\n",
    "print(y)"
   ]
  },
  {
   "cell_type": "markdown",
   "id": "ba4111c7",
   "metadata": {},
   "source": [
    "### Special case: String operations\n",
    "\n",
    "**Careful:** Python uses strong typing &rarr; Java-type concatenation does not work:\n",
    "\n",
    "\n",
    "\n",
    "~~`print(\"y=\"+y)`~~\n",
    "\n"
   ]
  },
  {
   "cell_type": "code",
   "execution_count": null,
   "id": "5606a53a",
   "metadata": {},
   "outputs": [],
   "source": [
    "# Instead, types must be converted manually:\n",
    "print(\"y=\"+str(y))\n",
    "\n",
    "# Every variable in Python is an object:\n",
    "print(x)\n",
    "x=17\n",
    "print(x.bit_length())\n",
    "print(x.bit_count())"
   ]
  },
  {
   "cell_type": "markdown",
   "id": "6afdc0aa",
   "metadata": {},
   "source": [
    "`dir()` is an extremely useful function: It shows all methods available for an object:\n"
   ]
  },
  {
   "cell_type": "code",
   "execution_count": null,
   "id": "d260fbb0",
   "metadata": {},
   "outputs": [],
   "source": [
    "dir(x)"
   ]
  },
  {
   "cell_type": "markdown",
   "id": "c9588032",
   "metadata": {},
   "source": [
    "`dir()`, for instance, is also useful to find out how to do something with an object that one suspects should be possible (as a shortcut before digging into documentation,or if documentation is lacking).\n",
    "\n",
    "\n",
    "For instance, try to find out how to convert a string object into uppercase:\n"
   ]
  },
  {
   "cell_type": "code",
   "execution_count": null,
   "id": "7dcb5420",
   "metadata": {},
   "outputs": [],
   "source": [
    "dir(\"   test\")"
   ]
  },
  {
   "cell_type": "markdown",
   "id": "eed8af1c",
   "metadata": {},
   "source": [
    "This shows, among other things, a method called `upper()`. Let's see what it does:"
   ]
  },
  {
   "cell_type": "code",
   "execution_count": null,
   "id": "84f03de1",
   "metadata": {},
   "outputs": [],
   "source": [
    "print(\"   test\".upper())"
   ]
  },
  {
   "cell_type": "markdown",
   "id": "78080e4e",
   "metadata": {},
   "source": [
    "__Caution__: Methods starting with \"\\_\\_\" are \"magic methods\", they are meant for internal use and are not supposed to be called manually (Python does not have access modifiers, so this is its # way of saying \"please don't, if we had access modifiers this would be private\")."
   ]
  },
  {
   "cell_type": "markdown",
   "id": "484ea97b",
   "metadata": {},
   "source": [
    "## Lesson 2: Working with lists resp. arrays"
   ]
  },
  {
   "cell_type": "markdown",
   "id": "bc7bf0b7",
   "metadata": {},
   "source": [
    "For data management, there's lists:"
   ]
  },
  {
   "cell_type": "code",
   "execution_count": null,
   "id": "92d1efba",
   "metadata": {},
   "outputs": [],
   "source": [
    "x = [1, 2, 3, 4, 5, 6, 5, 4, 3, 2, 1]\n",
    "print(x)"
   ]
  },
  {
   "cell_type": "markdown",
   "id": "c7d38ee7",
   "metadata": {},
   "source": [
    "__Careful__: Due to dynamic typisation x=\\[1,2,3\\] is possible: x used to be an integer, now it is a list."
   ]
  },
  {
   "cell_type": "markdown",
   "id": "45612ef4",
   "metadata": {},
   "source": [
    "Addressing elements of a list works as expected:"
   ]
  },
  {
   "cell_type": "code",
   "execution_count": null,
   "id": "2e5aa3f5",
   "metadata": {},
   "outputs": [],
   "source": [
    "print(x[0])"
   ]
  },
  {
   "cell_type": "markdown",
   "id": "466ef796",
   "metadata": {},
   "source": [
    "In Python, you can do lots of fun and useful things with lists:"
   ]
  },
  {
   "cell_type": "code",
   "execution_count": null,
   "id": "6fc6a975",
   "metadata": {},
   "outputs": [],
   "source": [
    "# slicing\n",
    "print(x[2:5])\n",
    "print(x[5:])\n",
    "print(x[:5])\n",
    "\n",
    "# addressing relative to the list's end\n",
    "print(x[-3])\n",
    "\n",
    "# chaining and mixing data types (including putting lists into lists)\n",
    "print(x + [\"a\", 2, [\"b\", \"blub\"]])\n",
    "\n",
    "# repeating\n",
    "zerolist = 4*[0]\n",
    "print(zerolist)\n",
    "\n",
    "# removing elements\n",
    "print(x)\n",
    "x.pop(3) # 3 is the index\n",
    "print(x)\n",
    "x.remove(5) # 5 is the element's value, the first occurence is removed\n",
    "print(x)\n",
    "\n",
    "# The operator \"in\" allows to check whether an element occurs in a list:\n",
    "mylist = [0, 5, 7]\n",
    "if 7 in mylist:\n",
    "    print(\"7 is in the list!\")\n",
    "else:\n",
    "    print(\"7 is not in the list!\")"
   ]
  },
  {
   "cell_type": "code",
   "execution_count": null,
   "id": "8577ff47",
   "metadata": {},
   "outputs": [],
   "source": [
    "dir(x)"
   ]
  },
  {
   "cell_type": "markdown",
   "id": "c0379517",
   "metadata": {},
   "source": [
    "__Performance hint__: Under the hood, lists are pre-allocated pointer arrays. Once the capacity is reached, a larger array is allocated and the old arrays' values are copied.\n",
    "\n",
    "````pop()```` are O(1), ````append()```` is amortised O(1), but ````pop([index])```` and ````remove```` are O(n)!"
   ]
  },
  {
   "cell_type": "markdown",
   "id": "f97c60df",
   "metadata": {},
   "source": [
    "### Tasks 1-3: Lists\n",
    "\n",
    "Now let's test what you have learned so far. Solve the following three tasks and test your solutions in the next cell."
   ]
  },
  {
   "cell_type": "markdown",
   "id": "7bf4902e",
   "metadata": {},
   "source": [
    "#### TASK 1\n",
    "Create a 3x3 list of integers, in which all fields are filled with 0, i.e. the list consists of 3 lists having 0's."
   ]
  },
  {
   "cell_type": "code",
   "execution_count": null,
   "id": "9de6a28b",
   "metadata": {},
   "outputs": [],
   "source": [
    "# TASK 1\n",
    "def create_3x3_list():\n",
    "    result= [[3 for _ in range (3)] for _ in range(3)] # Replace None in the above line by the correct expression\n",
    "    return result  "
   ]
  },
  {
   "cell_type": "markdown",
   "id": "a8017937",
   "metadata": {},
   "source": [
    "#### TASK 2\n",
    " Create a 3x3 list where each number is different."
   ]
  },
  {
   "cell_type": "code",
   "execution_count": null,
   "id": "67d58d88",
   "metadata": {},
   "outputs": [],
   "source": [
    "#TASK 2\n",
    "def create_3x3_list_different():\n",
    "    result =  None # Replace None in the above line by the correct expression\n",
    "    return result"
   ]
  },
  {
   "cell_type": "markdown",
   "id": "9a1adea7",
   "metadata": {},
   "source": [
    "#### TASK 3\n",
    "Let `mylist` be a 3x3 list like the one created by `create_3x3_list_different()`. \n",
    "Remove its middle element."
   ]
  },
  {
   "cell_type": "code",
   "execution_count": null,
   "id": "76c2db28",
   "metadata": {},
   "outputs": [],
   "source": [
    "def remove_middle_element(mylist):\n",
    "    result = mylist\n",
    "    # Do something here\n",
    "    return result"
   ]
  },
  {
   "cell_type": "markdown",
   "id": "d5f66ff1",
   "metadata": {},
   "source": [
    "## Test of your solutions of tasks 1-3\n",
    "\n",
    "The code in the next cells helps you to test your methods with so called unit tests. You do not have to change anything in the next two code cells.\n",
    "\n",
    "Just run them. The output of the second cell lets you know if your solutions are correct:\n",
    "\n",
    "If everything is as expected the output for every method you implemente is **ok**, e.g.\n",
    "````\n",
    "test_create_3x3_list (__main__.TestAgent) ... ok\n",
    "````\n",
    "\n",
    "Otherwise you'll receive an **ERROR** or **FAIL**, e.g.\n",
    "````\n",
    "test_create_3x3_list_different (__main__.TestAgent) ... FAIL\n",
    "````\n",
    "In this case you might find some hints in the detailed error message."
   ]
  },
  {
   "cell_type": "markdown",
   "id": "178a23fb",
   "metadata": {},
   "source": [
    "Please be aware that you have to execute the task cells above BEFORE you start the tests. Additionally, always execute the next cell BEFORE re-running the tests if you change anything. This forces a necessary saving of the notebook so that your changes will be taken into account during the next test."
   ]
  },
  {
   "cell_type": "code",
   "execution_count": null,
   "id": "ad96dbc8",
   "metadata": {},
   "outputs": [],
   "source": [
    "%%javascript\n",
    "IPython.notebook.save_notebook()"
   ]
  },
  {
   "cell_type": "code",
   "execution_count": null,
   "id": "bce0d406",
   "metadata": {
    "scrolled": true
   },
   "outputs": [],
   "source": [
    "!python \"tests/test_tasks1_3.py\"\n",
    "print(\"completed unit test inside the notebook\")"
   ]
  },
  {
   "cell_type": "markdown",
   "id": "0cdac84d",
   "metadata": {},
   "source": [
    "## Lesson 3: Tuples & Dictionaries"
   ]
  },
  {
   "cell_type": "markdown",
   "id": "303aea87",
   "metadata": {},
   "source": [
    "Tuples are a slimmer version of lists:"
   ]
  },
  {
   "cell_type": "code",
   "execution_count": null,
   "id": "31ccd2ba",
   "metadata": {},
   "outputs": [],
   "source": [
    "tup = (1, 3, 4)\n",
    "print(tup)"
   ]
  },
  {
   "cell_type": "markdown",
   "id": "57a72aec",
   "metadata": {},
   "source": [
    "Tuples are immutable, so you can't do much more than initialize them and access the values. This allows lots of optimizations, so for performance reasons one should use tuples wherever possible (and future-proof)."
   ]
  },
  {
   "cell_type": "markdown",
   "id": "cef23d50",
   "metadata": {},
   "source": [
    "Then, there's dictionaries (like HashMaps in Java):"
   ]
  },
  {
   "cell_type": "code",
   "execution_count": null,
   "id": "2e683156",
   "metadata": {},
   "outputs": [],
   "source": [
    "mydict = {\"key\": \"value\", \"a\": 5, \"stuff\": \"great\", 7: \"seven\"}\n",
    "print(mydict)\n",
    "print(mydict[\"stuff\"])\n",
    "mydict[\"stuff\"] = \"eh, not so great\"\n",
    "print(mydict[\"stuff\"])"
   ]
  },
  {
   "cell_type": "markdown",
   "id": "d6ff0489",
   "metadata": {},
   "source": [
    "As with lists, a dictionary allows to check whether a key exists in a dictionary:"
   ]
  },
  {
   "cell_type": "code",
   "execution_count": null,
   "id": "59feb879",
   "metadata": {},
   "outputs": [],
   "source": [
    "print(\"stuff\" in mydict)\n",
    "print(\"newkey\" in mydict)\n",
    "mydict[\"newkey\"] = \"newvalue\"\n",
    "print(\"newkey\" in mydict)\n",
    "print(mydict[\"newkey\"])"
   ]
  },
  {
   "cell_type": "markdown",
   "id": "50f9abc1",
   "metadata": {},
   "source": [
    "A dictionary can also be initialized directly from a tuple of tuples:"
   ]
  },
  {
   "cell_type": "code",
   "execution_count": null,
   "id": "3f88aed6",
   "metadata": {},
   "outputs": [],
   "source": [
    "mydict2 = dict(((\"7\", \"seven\"), (\"eight\", 8)))\n",
    "print(mydict2)"
   ]
  },
  {
   "cell_type": "markdown",
   "id": "bdd02a17",
   "metadata": {},
   "source": [
    "What methods are defined for dictionary object in Python? Let's find out with `dir()`again."
   ]
  },
  {
   "cell_type": "code",
   "execution_count": null,
   "id": "af23f2bb",
   "metadata": {},
   "outputs": [],
   "source": [
    "dir(mydict)"
   ]
  },
  {
   "cell_type": "markdown",
   "id": "dc747741",
   "metadata": {},
   "source": [
    "Okay, let's check the values of the dictionaries we already defined:"
   ]
  },
  {
   "cell_type": "code",
   "execution_count": null,
   "id": "2ec036bb",
   "metadata": {},
   "outputs": [],
   "source": [
    "print(\"The values in mydict are: \"+str(mydict.values()))\n",
    "print(\"The values in mydict2 are: \"+str(mydict2.values()))"
   ]
  },
  {
   "cell_type": "markdown",
   "id": "6a328af8",
   "metadata": {},
   "source": [
    "## Task 4: Dictionary\n",
    "\n",
    "Now let's test again what you have learned so far. Solve the following task and test your solutions in the next cells."
   ]
  },
  {
   "cell_type": "markdown",
   "id": "30a5704d",
   "metadata": {},
   "source": [
    "#### TASK 4\n",
    "\n",
    "From the list `mylist` (which is a 3x3 array like the one returned by create_3x3_list_different in TASK 3), create a dictionary. In this dictionary, each of the values from mylist should be assigned to a key that is a string (e.g. \"a\", \"z\" etc. - it does not matter which letters you choose)"
   ]
  },
  {
   "cell_type": "code",
   "execution_count": null,
   "id": "92282e2f",
   "metadata": {},
   "outputs": [],
   "source": [
    "# TASK 4\n",
    "def convert_to_dict(mylist):\n",
    "    result = None \n",
    "    return result"
   ]
  },
  {
   "cell_type": "markdown",
   "id": "5cb5e47d",
   "metadata": {},
   "source": [
    "## Test your solution of task 4\n",
    "\n",
    "The next cell contains another unit test. You do not have to change anything. Just run it and the output lets you know if your solutions are correct. If everything is as expected the output is \"ok\", otherwise you'll receive an \"ERROR\" or \"FAIL\". In this case you might find some hints in the detailed error message."
   ]
  },
  {
   "cell_type": "markdown",
   "id": "ef1b34c8",
   "metadata": {},
   "source": [
    "Please be aware that you have to execute the task cell above BEFORE you start the test. Additionally, always execute the next cell BEFORE re-running the tests if you change anything. This forces a necessary saving of the notebook so that your changes will be taken into account during the next test."
   ]
  },
  {
   "cell_type": "code",
   "execution_count": null,
   "id": "cc0507ab",
   "metadata": {},
   "outputs": [],
   "source": [
    "%%javascript\n",
    "IPython.notebook.save_notebook()"
   ]
  },
  {
   "cell_type": "code",
   "execution_count": null,
   "id": "eca172c5",
   "metadata": {},
   "outputs": [],
   "source": [
    "!python \"tests/test_task4.py\"\n",
    "print(\"completed unit test inside the notebook\")"
   ]
  },
  {
   "cell_type": "markdown",
   "id": "d68bfcac",
   "metadata": {},
   "source": [
    "## Lesson 4 – Sets & Strings"
   ]
  },
  {
   "cell_type": "markdown",
   "id": "40ad056c",
   "metadata": {},
   "source": [
    "A set is a, well, set and can only contain each value once:"
   ]
  },
  {
   "cell_type": "code",
   "execution_count": null,
   "id": "83794ae5",
   "metadata": {},
   "outputs": [],
   "source": [
    "myset = set()\n",
    "myset.add(15)\n",
    "myset.add(\"blub\")\n",
    "print(myset)\n",
    "myset.add(14)\n",
    "myset.add(15)\n",
    "print(myset)"
   ]
  },
  {
   "cell_type": "markdown",
   "id": "2bda4937",
   "metadata": {},
   "source": [
    "### Strings\n",
    "\n",
    "Python has some very useful string manipulation methods, so it is often used to perform simple (or not-so-simple) string/text file manipulation tasks (which, as we'll see, is very useful in bioinformatics)."
   ]
  },
  {
   "cell_type": "markdown",
   "id": "6cfc1818",
   "metadata": {},
   "source": [
    "Possible string delimiters are \", ', or (for multiline strings) \"\"\":"
   ]
  },
  {
   "cell_type": "code",
   "execution_count": null,
   "id": "81fba0a8",
   "metadata": {},
   "outputs": [],
   "source": [
    "print('That is useful to avoid having to escape \" characters')\n",
    "\n",
    "dat=\"\"\"Or in order\n",
    "to directly\n",
    "initialize a string with\n",
    "multiple lines\"\"\"\n",
    "print(dat)"
   ]
  },
  {
   "cell_type": "markdown",
   "id": "2ed150cb",
   "metadata": {},
   "source": [
    "There are lots of convenience methods for strings, for instance:\n"
   ]
  },
  {
   "cell_type": "code",
   "execution_count": null,
   "id": "217dcec9",
   "metadata": {},
   "outputs": [],
   "source": [
    "dat2 = dat.replace(\"\\n\", \" \")\n",
    "print(dat2)\n",
    "print(dat2.split(\" \"))"
   ]
  },
  {
   "cell_type": "markdown",
   "id": "c398da90",
   "metadata": {},
   "source": [
    "There is also regular expression support via the re module, but we're not going to look at that in detail here."
   ]
  },
  {
   "cell_type": "markdown",
   "id": "5070623e",
   "metadata": {},
   "source": [
    "Strings have a very useful method to concatenate tuples and lists:"
   ]
  },
  {
   "cell_type": "code",
   "execution_count": null,
   "id": "5cd69d96",
   "metadata": {},
   "outputs": [],
   "source": [
    "toprint = [\"Those\", \"are\", \"words\"]\n",
    "print(\" \".join(toprint))\n",
    "print(\"--!--\".join(toprint))"
   ]
  },
  {
   "cell_type": "markdown",
   "id": "3479f3da",
   "metadata": {},
   "source": [
    "## Tasks 5-7: Sets & Strings\n",
    "\n",
    "Ready for some more learning tasks? \n",
    "\n",
    "Solve the following tasks and test your solutions in the following test cells."
   ]
  },
  {
   "cell_type": "markdown",
   "id": "e8b2667b",
   "metadata": {},
   "source": [
    "#### TASK 5\n",
    "\n",
    "Return the num-th character from text."
   ]
  },
  {
   "cell_type": "code",
   "execution_count": null,
   "id": "044b4795",
   "metadata": {},
   "outputs": [],
   "source": [
    "# TASK 5\n",
    "def get_char(text, num):\n",
    "    result = None\n",
    "    return result"
   ]
  },
  {
   "cell_type": "markdown",
   "id": "1e553bfd",
   "metadata": {},
   "source": [
    "#### TASK 6\n",
    "Return the num-th word from the sentence sentence (that consists of words separated by spaces)."
   ]
  },
  {
   "cell_type": "code",
   "execution_count": null,
   "id": "f6609ba2",
   "metadata": {},
   "outputs": [],
   "source": [
    "# TASK 6\n",
    "def get_word(sentence, num):\n",
    "    result = None\n",
    "    return result"
   ]
  },
  {
   "cell_type": "markdown",
   "id": "600677c7",
   "metadata": {},
   "source": [
    "#### TASK 7\n",
    "Return a new string in which the words from the sentence are separated with \"--\" instead of \" \"\n"
   ]
  },
  {
   "cell_type": "code",
   "execution_count": null,
   "id": "7b348c57",
   "metadata": {},
   "outputs": [],
   "source": [
    "# TASK 7\n",
    "def join_by_dashes(sentence):\n",
    "    result = None\n",
    "    return result"
   ]
  },
  {
   "cell_type": "markdown",
   "id": "13e5b3f0",
   "metadata": {},
   "source": [
    "## Test of your solutions of tasks 5-7\n",
    "\n",
    "The next cells contain the unit tests for the tasks above. You do not have to change anything. Just run the tests and the output lets you know if your solutions are correct. If everything is as expected the output is \"ok\", otherwise you'll receive an \"ERROR\" or \"FAIL\". In this case you might find some hints in the detailed error message."
   ]
  },
  {
   "cell_type": "markdown",
   "id": "518d4e6e",
   "metadata": {},
   "source": [
    "Please be aware that you have to execute the task cell above BEFORE you start the test. Additionally, always execute the next cell BEFORE re-running the tests if you change anything. This forces a necessary saving of the notebook so that your changes will be taken into account during the next test."
   ]
  },
  {
   "cell_type": "code",
   "execution_count": null,
   "id": "5d4d7e58",
   "metadata": {},
   "outputs": [],
   "source": [
    "%%javascript\n",
    "IPython.notebook.save_notebook()"
   ]
  },
  {
   "cell_type": "code",
   "execution_count": null,
   "id": "da451d94",
   "metadata": {
    "scrolled": true
   },
   "outputs": [],
   "source": [
    "!python \"tests/test_tasks5_7.py\"\n",
    "print(\"completed unit test inside the notebook\")"
   ]
  },
  {
   "cell_type": "markdown",
   "id": "0d600ab1",
   "metadata": {},
   "source": [
    "## Lesson 5: Strings Special"
   ]
  },
  {
   "cell_type": "markdown",
   "id": "4d311f6c",
   "metadata": {},
   "source": [
    "There is a specification language for formatting strings.\n",
    "\n",
    "{} are used as placeholders for variables:"
   ]
  },
  {
   "cell_type": "code",
   "execution_count": null,
   "id": "21c5ac0c",
   "metadata": {},
   "outputs": [],
   "source": [
    "x = 12\n",
    "y = 4\n",
    "print(\"the value of y: {} minus the value of x: {} is: {}\".format(y, x, y-x))"
   ]
  },
  {
   "cell_type": "markdown",
   "id": "8dadbe5d",
   "metadata": {},
   "source": [
    "The positions of the values in the argument list of format() that are to be used can be specified within {}:"
   ]
  },
  {
   "cell_type": "code",
   "execution_count": null,
   "id": "f32c59aa",
   "metadata": {},
   "outputs": [],
   "source": [
    "print(\"y: {1}, x: {0}\".format(x, y))"
   ]
  },
  {
   "cell_type": "markdown",
   "id": "1bf549e2",
   "metadata": {},
   "source": [
    "The nice thing about that: Positions can be repeated:"
   ]
  },
  {
   "cell_type": "code",
   "execution_count": null,
   "id": "3d93641a",
   "metadata": {},
   "outputs": [],
   "source": [
    "print(\"{0}{1}{0}\".format(\"abra\", \"cad\"))"
   ]
  },
  {
   "cell_type": "markdown",
   "id": "9053c4c1",
   "metadata": {},
   "source": [
    "Number formats can be defined:"
   ]
  },
  {
   "cell_type": "code",
   "execution_count": null,
   "id": "cd349a93",
   "metadata": {},
   "outputs": [],
   "source": [
    "print(\"723 in binary: {0:b} and hex: {0:X}\".format(723))"
   ]
  },
  {
   "cell_type": "markdown",
   "id": "c7f273ac",
   "metadata": {},
   "source": [
    "*Side note:* That can be used to show the results of binary operations:"
   ]
  },
  {
   "cell_type": "code",
   "execution_count": null,
   "id": "b6e1d752",
   "metadata": {},
   "outputs": [],
   "source": [
    "print(\"1: {:b}, 1<<2: {:b}, 60: {:b}, ~60: {:b} (dezimal: {}), 13: {:b}, 60&13: {:b}, 60|13: {:b} etc...\".format(1, 1<<2, 60, ~60, ~60, 13, 60&13, 60|13))\n",
    "# Question: Can anyone explain why ~60==-61?"
   ]
  },
  {
   "cell_type": "markdown",
   "id": "c8d6e4ed",
   "metadata": {},
   "source": [
    "Alignment and padding characters can be specified:"
   ]
  },
  {
   "cell_type": "code",
   "execution_count": null,
   "id": "20fe69d7",
   "metadata": {},
   "outputs": [],
   "source": [
    "print(\"y with 10 places and right aligned: {0:>10}, left aligned: {0:<10}, centered: {0:^10} and right aligned, padded with 0: {0:0>10}\".format(y))"
   ]
  },
  {
   "cell_type": "markdown",
   "id": "53a7d68c",
   "metadata": {},
   "source": [
    "## Lesson 6: Flow Control"
   ]
  },
  {
   "cell_type": "markdown",
   "id": "7a92115f",
   "metadata": {},
   "source": [
    "Flow control structures work as expected.\n",
    "\n",
    "__New__:\n",
    "* the beginning of a block is shown by a `:` after the control structure\n",
    "* indentation is syntactically relevant (shows the length of a block) and must be consistent throughout the code (sometimes 3, sometimes 4 spaces does not work)"
   ]
  },
  {
   "cell_type": "code",
   "execution_count": null,
   "id": "1b8dd810",
   "metadata": {},
   "outputs": [],
   "source": [
    "y = 12\n",
    "if y > 10:\n",
    "    y -= 3\n",
    "elif y <= 10:\n",
    "    y += 10\n",
    "else:\n",
    "    print(\"This is impossible!\")\n",
    "print(y)\n",
    "\n",
    "# This would not work due to missing indentation:\n",
    "# if y > 10:\n",
    "# print(\"y is still greater than 10\")"
   ]
  },
  {
   "cell_type": "markdown",
   "id": "ae9cf610",
   "metadata": {},
   "source": [
    "`while` just does what while usually does:"
   ]
  },
  {
   "cell_type": "code",
   "execution_count": null,
   "id": "e6fb5dbb",
   "metadata": {},
   "outputs": [],
   "source": [
    "y=10\n",
    "while y > 5:\n",
    "    print(y)\n",
    "    y -= 1"
   ]
  },
  {
   "cell_type": "markdown",
   "id": "17776464",
   "metadata": {},
   "source": [
    "`for`, however, is used specifically for iteration (as the \":\" version of `for` in Java):"
   ]
  },
  {
   "cell_type": "code",
   "execution_count": null,
   "id": "bc790763",
   "metadata": {},
   "outputs": [],
   "source": [
    "letters = [\"a\", \"b\", \"c\"]\n",
    "for letter in letters:\n",
    "    if letter == \"a\":\n",
    "        print(\"AAAAAAAAA\")\n",
    "    print(letter)"
   ]
  },
  {
   "cell_type": "markdown",
   "id": "a03f8130",
   "metadata": {},
   "source": [
    "One can iterate over everything that is an iterable (strings among other things):"
   ]
  },
  {
   "cell_type": "code",
   "execution_count": null,
   "id": "41364629",
   "metadata": {},
   "outputs": [],
   "source": [
    "print(range(2,7))\n",
    "for x in range(2,7):\n",
    "    print(x)\n",
    "\n",
    "for x in range(0,10,3):\n",
    "    print(x)\n",
    "\n",
    "for key in mydict:\n",
    "    print(str(key) + \": \" + str(mydict[key]))\n",
    "\n",
    "for item in mydict.items():\n",
    "    print(item)"
   ]
  },
  {
   "cell_type": "markdown",
   "id": "d2ac56dc",
   "metadata": {},
   "source": [
    "## Tasks 8-11: Combining it all\n",
    "\n",
    "Let's go for the last task block in this part of the crash course.\n",
    "\n",
    "Solve the following four tasks and test your solutions in the following test cells."
   ]
  },
  {
   "cell_type": "markdown",
   "id": "232eb32d",
   "metadata": {},
   "source": [
    "#### TASK 8\n",
    "Return an array that contains all the letters from text, e.g. `text=\"test\"`, `result=[\"t\", \"e\", \"s\", \"t\"]`\n"
   ]
  },
  {
   "cell_type": "code",
   "execution_count": null,
   "id": "c87b2a91",
   "metadata": {},
   "outputs": [],
   "source": [
    "# TASK 8\n",
    "def text_to_array(text):\n",
    "    result = None\n",
    "    return result"
   ]
  },
  {
   "cell_type": "markdown",
   "id": "5796edce",
   "metadata": {},
   "source": [
    "#### TASK 9\n",
    "Return an array just like the one from text_to_array, but containing each unique letter only once, e.g. `text = \"test\"`, `result = [\"t\", \"e\", \"s\"]`. *Hint:* Remember the operator \"in\"\n"
   ]
  },
  {
   "cell_type": "code",
   "execution_count": null,
   "id": "5180fc6d",
   "metadata": {},
   "outputs": [],
   "source": [
    "# TASK 9\n",
    "def text_to_unique_array(text):\n",
    "    result = None\n",
    "    return result"
   ]
  },
  {
   "cell_type": "markdown",
   "id": "75a43d72",
   "metadata": {},
   "source": [
    "#### TASK 10\n",
    "Invert the text, e.g. `text = \"Zeichenkette\"`, `result=\"etteknehcieZ\"`"
   ]
  },
  {
   "cell_type": "code",
   "execution_count": null,
   "id": "14a04dfd",
   "metadata": {},
   "outputs": [],
   "source": [
    "# TASK 10\n",
    "def invert_text(text):\n",
    "    result = None\n",
    "    return result"
   ]
  },
  {
   "cell_type": "markdown",
   "id": "56bfae27",
   "metadata": {},
   "source": [
    "#### TASK 11\n",
    "Return an array containing all rotations of the text, e.g.\n",
    "`text = \"test\"`, `result = [\"test\", \"ttes\", \"stte\", \"estt\"]`"
   ]
  },
  {
   "cell_type": "code",
   "execution_count": null,
   "id": "9f6996c9",
   "metadata": {},
   "outputs": [],
   "source": [
    "# TASK 11\n",
    "def make_rotations(text):\n",
    "    result = None\n",
    "    return result"
   ]
  },
  {
   "cell_type": "markdown",
   "id": "6584bec2",
   "metadata": {},
   "source": [
    "## Test of your solutions of tasks 8-11\n",
    "\n",
    "The next cells contain the unit tests for the tasks above. You do not have to change anything. Just run the tests and the output lets you know if your solutions are correct. If everything is as expected the output is \"ok\", otherwise you'll receive an \"ERROR\" or \"FAIL\". In this case you might find some hints in the detailed error message."
   ]
  },
  {
   "cell_type": "markdown",
   "id": "8f8bf4b1",
   "metadata": {},
   "source": [
    "Please be aware that you have to execute the task cell above BEFORE you start the test. Additionally, always execute the next cell BEFORE re-running the tests if you change anything. This forces a necessary saving of the notebook so that your changes will be taken into account during the next test."
   ]
  },
  {
   "cell_type": "code",
   "execution_count": null,
   "id": "de2d2c2f",
   "metadata": {},
   "outputs": [],
   "source": [
    "%%javascript\n",
    "IPython.notebook.save_notebook()"
   ]
  },
  {
   "cell_type": "code",
   "execution_count": null,
   "id": "345a217b",
   "metadata": {},
   "outputs": [],
   "source": [
    "!python \"tests/test_tasks8_11.py\"\n",
    "print(\"completed unit test inside the notebook\")"
   ]
  }
 ],
 "metadata": {
  "kernelspec": {
   "display_name": "Python 3 (ipykernel)",
   "language": "python",
   "name": "python3"
  },
  "language_info": {
   "codemirror_mode": {
    "name": "ipython",
    "version": 3
   },
   "file_extension": ".py",
   "mimetype": "text/x-python",
   "name": "python",
   "nbconvert_exporter": "python",
   "pygments_lexer": "ipython3",
   "version": "3.10.9"
  }
 },
 "nbformat": 4,
 "nbformat_minor": 5
}
