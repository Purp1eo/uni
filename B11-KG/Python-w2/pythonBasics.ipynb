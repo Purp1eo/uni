{
 "cells": [
  {
   "cell_type": "markdown",
   "id": "b2eed6f5",
   "metadata": {},
   "source": [
    "# Create your own Python lessons"
   ]
  },
  {
   "cell_type": "markdown",
   "id": "316a042b",
   "metadata": {},
   "source": [
    "Read through the following Python Crash Course by Prof. Dr. Dabrowski and solve the four tasks given. You can test your solution by the end of each task."
   ]
  },
  {
   "cell_type": "markdown",
   "id": "5a4bc214",
   "metadata": {},
   "source": [
    "## Lesson 1  &ndash; Working with variables"
   ]
  },
  {
   "cell_type": "markdown",
   "id": "273d52c3",
   "metadata": {},
   "source": [
    "### Variables do not have type declarations"
   ]
  },
  {
   "cell_type": "code",
   "execution_count": 2,
   "id": "f078965b",
   "metadata": {},
   "outputs": [
    {
     "name": "stdout",
     "output_type": "stream",
     "text": [
      "16\n"
     ]
    }
   ],
   "source": [
    "x = 5\n",
    "x += 3\n",
    "y = 2*x\n",
    "print(y)"
   ]
  },
  {
   "cell_type": "markdown",
   "id": "ac75b4fd",
   "metadata": {},
   "source": [
    "### Usual operations with variables"
   ]
  },
  {
   "cell_type": "code",
   "execution_count": null,
   "id": "492d68fe",
   "metadata": {},
   "outputs": [],
   "source": [
    "# The usual operations work just as expected.\n",
    "# Modulo:\n",
    "print(y%3)\n",
    "\n",
    "# Floor:\n",
    "print(y//3)\n",
    "\n",
    "# Exponents:\n",
    "print(y**4)\n",
    "\n",
    "# All operations can be combined with assignment:\n",
    "y %= 3\n",
    "print(y)"
   ]
  },
  {
   "cell_type": "markdown",
   "id": "ba4111c7",
   "metadata": {},
   "source": [
    "### Special case: String operations"
   ]
  },
  {
   "cell_type": "code",
   "execution_count": null,
   "id": "5606a53a",
   "metadata": {},
   "outputs": [],
   "source": [
    "# Careful: Python uses strong typing -> Java-type concatenation does not work!\n",
    "print(\"y=\"+y)\n",
    "\n",
    "# Instead, types must be converted manually:\n",
    "print(\"y=\"+str(y))\n",
    "\n",
    "# Every variable in Python is an object:\n",
    "print(x.bit_length())\n"
   ]
  },
  {
   "cell_type": "code",
   "execution_count": 1,
   "id": "d260fbb0",
   "metadata": {},
   "outputs": [
    {
     "data": {
      "text/plain": [
       "['__abs__',\n",
       " '__add__',\n",
       " '__and__',\n",
       " '__bool__',\n",
       " '__ceil__',\n",
       " '__class__',\n",
       " '__delattr__',\n",
       " '__dir__',\n",
       " '__divmod__',\n",
       " '__doc__',\n",
       " '__eq__',\n",
       " '__float__',\n",
       " '__floor__',\n",
       " '__floordiv__',\n",
       " '__format__',\n",
       " '__ge__',\n",
       " '__getattribute__',\n",
       " '__getnewargs__',\n",
       " '__getstate__',\n",
       " '__gt__',\n",
       " '__hash__',\n",
       " '__index__',\n",
       " '__init__',\n",
       " '__init_subclass__',\n",
       " '__int__',\n",
       " '__invert__',\n",
       " '__le__',\n",
       " '__lshift__',\n",
       " '__lt__',\n",
       " '__mod__',\n",
       " '__mul__',\n",
       " '__ne__',\n",
       " '__neg__',\n",
       " '__new__',\n",
       " '__or__',\n",
       " '__pos__',\n",
       " '__pow__',\n",
       " '__radd__',\n",
       " '__rand__',\n",
       " '__rdivmod__',\n",
       " '__reduce__',\n",
       " '__reduce_ex__',\n",
       " '__repr__',\n",
       " '__rfloordiv__',\n",
       " '__rlshift__',\n",
       " '__rmod__',\n",
       " '__rmul__',\n",
       " '__ror__',\n",
       " '__round__',\n",
       " '__rpow__',\n",
       " '__rrshift__',\n",
       " '__rshift__',\n",
       " '__rsub__',\n",
       " '__rtruediv__',\n",
       " '__rxor__',\n",
       " '__setattr__',\n",
       " '__sizeof__',\n",
       " '__str__',\n",
       " '__sub__',\n",
       " '__subclasshook__',\n",
       " '__truediv__',\n",
       " '__trunc__',\n",
       " '__xor__',\n",
       " 'as_integer_ratio',\n",
       " 'bit_count',\n",
       " 'bit_length',\n",
       " 'conjugate',\n",
       " 'denominator',\n",
       " 'from_bytes',\n",
       " 'imag',\n",
       " 'is_integer',\n",
       " 'numerator',\n",
       " 'real',\n",
       " 'to_bytes']"
      ]
     },
     "execution_count": 1,
     "metadata": {},
     "output_type": "execute_result"
    }
   ],
   "source": [
    "# dir() is an extremely useful function: It shows all methods available for an object:\n",
    "\n",
    "x=0\n",
    "dir(x)"
   ]
  },
  {
   "cell_type": "code",
   "execution_count": null,
   "id": "7dcb5420",
   "metadata": {},
   "outputs": [],
   "source": [
    "# dir(), for instance, is also useful to find out how to do something with an object\n",
    "# that one suspects should be possible (as a shortcut before digging into documentation,\n",
    "# or if documentation is lacking).\n",
    "# For instance, try to find out how to convert a string object into uppercase:\n",
    "dir(\"   test\")"
   ]
  },
  {
   "cell_type": "code",
   "execution_count": null,
   "id": "84f03de1",
   "metadata": {},
   "outputs": [],
   "source": [
    "# This shows, among other things, a method called \"upper()\". Let's see what it does:\n",
    "print(\"   test\".upper())"
   ]
  },
  {
   "cell_type": "markdown",
   "id": "78080e4e",
   "metadata": {},
   "source": [
    "__Caution__: Methods starting with \"\\_\\_\" are \"magic methods\", they are meant for internal use and are not supposed to be called manually (Python does not have access modifiers, so this is its # way of saying \"please don't, if we had access modifiers this would be private\")."
   ]
  },
  {
   "cell_type": "markdown",
   "id": "484ea97b",
   "metadata": {},
   "source": [
    "## Lesson 2 &ndash; Working with lists resp. arrays"
   ]
  },
  {
   "cell_type": "code",
   "execution_count": null,
   "id": "92d1efba",
   "metadata": {},
   "outputs": [],
   "source": [
    "# For data management, there's lists:\n",
    "x = [1, 2, 3, 4, 5, 6, 5, 4, 3, 2, 1]\n",
    "print(x)"
   ]
  },
  {
   "cell_type": "markdown",
   "id": "c7d38ee7",
   "metadata": {},
   "source": [
    "__Careful__: Due to dynamic typisation x=\\[1,2,3\\] is possible: x used to be an integer, now it is a list."
   ]
  },
  {
   "cell_type": "code",
   "execution_count": null,
   "id": "2e5aa3f5",
   "metadata": {},
   "outputs": [],
   "source": [
    "# Addressing elements of a list works as expected:\n",
    "print(x[0])"
   ]
  },
  {
   "cell_type": "code",
   "execution_count": null,
   "id": "6fc6a975",
   "metadata": {},
   "outputs": [],
   "source": [
    "# In Python, you can do lots of fun and useful things with lists:\n",
    "# slicing\n",
    "print(x[2:5])\n",
    "print(x[5:])\n",
    "print(x[:5])\n",
    "\n",
    "# addressing relative to the list's end\n",
    "print(x[-3])\n",
    "\n",
    "# chaining and mixing data types (including putting lists into lists)\n",
    "print(x + [\"a\", 2, [\"b\", \"blub\"]])\n",
    "\n",
    "# repeating\n",
    "zerolist = 4*[0]\n",
    "print(zerolist)\n",
    "\n",
    "# removing elements\n",
    "print(x)\n",
    "x.pop(3) # 3 is the index\n",
    "print(x)\n",
    "x.remove(5) # 5 is the element's value, the first occurence is removed\n",
    "print(x)\n",
    "\n",
    "# The operator \"in\" allows to check whether an element occurs in a list:\n",
    "mylist = [0, 5, 7]\n",
    "if 7 in mylist:\n",
    "    print(\"7 is in the list!\")\n",
    "else:\n",
    "    print(\"7 is not in the list!\")"
   ]
  },
  {
   "cell_type": "code",
   "execution_count": null,
   "id": "8577ff47",
   "metadata": {},
   "outputs": [],
   "source": [
    "dir(x)"
   ]
  },
  {
   "cell_type": "markdown",
   "id": "c0379517",
   "metadata": {},
   "source": [
    "__Performance hint__: Under the hood, lists are pre-allocated pointer arrays. Once the capacity is reached, a larger array is allocated and the old arrays' values are copied.\n",
    "\n",
    "````pop()```` are O(1), ````append()```` is amortised O(1), but ````pop([index])```` and ````remove```` are O(n)!"
   ]
  },
  {
   "cell_type": "markdown",
   "id": "f97c60df",
   "metadata": {},
   "source": [
    "## Task 1"
   ]
  },
  {
   "cell_type": "code",
   "execution_count": null,
   "id": "76c2db28",
   "metadata": {},
   "outputs": [],
   "source": [
    "# Create a 3x3 list (three-dimensionl list resp. matrice), in which all fields are filled with 0\n",
    "def create_3x3_list():\n",
    "    result = [3*[0],3*[0],3*[0]] # Hier None durch die richtige expression ersetzen\n",
    "    # Replace None in the above line by the correct expression\n",
    "    return result\n",
    "\n",
    "# Create a 3x3 list where each number is different\n",
    "def create_3x3_list_different():\n",
    "    result = [[1,2,3],[4,5,6],[7,8,9]] # Hier None durch die richtige expression ersetzen\n",
    "    # Replace None in the above line by the correct expression\n",
    "    return result\n",
    "\n",
    "# mylist is a 3x3 list, like the one created by create_3x3_list_different(). Remove the middle element.\n",
    "def remove_middle_element(mylist):\n",
    "    result = mylist\n",
    "    result.remove(3*[0])\n",
    "    # Do things here\n",
    "    return result\n",
    "remove_middle_element([[0,0,0], [0,0,0], [0,0,0]])"
   ]
  },
  {
   "cell_type": "markdown",
   "id": "e61203d6",
   "metadata": {},
   "source": [
    "## Test of your solutions to task 1\n",
    "\n",
    "The first three methods have to return \"ok\" (not \"FAIL\", not \"ERROR\")."
   ]
  },
  {
   "cell_type": "code",
   "execution_count": null,
   "id": "0abea24f",
   "metadata": {},
   "outputs": [],
   "source": [
    "import random\n",
    "import string\n",
    "import unittest\n",
    "\n",
    "class TestNotebook(unittest.TestCase):\n",
    "    \n",
    "    def check_list(self, l, dim1, dim2):\n",
    "        self.assertIsNotNone(l)\n",
    "        self.assertTrue(isinstance(l, list), \"Result is not a list\")\n",
    "        self.assertEqual(len(l), dim1, \"Length of result was expected to be \" + str(dim1) + \" but is \" + str(len(l)))\n",
    "        for i in range(0, dim1):\n",
    "            self.assertTrue(isinstance(l[i], list), str(i) + \"th element of result is not a list\")\n",
    "            self.assertEqual(len(l[i]), dim2,\n",
    "                             \"Length of \" + str(i) + \"th element of result was expected to be \" + str(dim2) +\n",
    "                             \" but is \" + str(len(l[i])))\n",
    "\n",
    "       \n",
    "    def test_create_3x3_list(self):\n",
    "        result = create_3x3_list()\n",
    "        self.check_list(result, 3, 3)\n",
    "\n",
    "    def test_create_3x3_list_different(self):\n",
    "        result = create_3x3_list_different()\n",
    "        self.check_list(result, 3, 3)\n",
    "        numset = set()\n",
    "        self.assertIsNotNone(result)\n",
    "        for i in range(0, 3):\n",
    "            for j in range(0, 3):\n",
    "                numset.add(result[i][j])\n",
    "        self.assertEqual(len(numset), 9, \"Not all numbers are different\")\n",
    "\n",
    "    def test_remove_middle_element(self):\n",
    "        result = remove_middle_element([[0,0,0], [0,0,0], [0,0,0]])\n",
    "        self.check_list(result, 2, 3)\n",
    "\n",
    "unittest.main(argv=[''], verbosity=2, exit=False)"
   ]
  },
  {
   "cell_type": "markdown",
   "id": "a4632def",
   "metadata": {},
   "source": [
    "## Lesson 2 – Tuples & Dictionaries"
   ]
  },
  {
   "cell_type": "code",
   "execution_count": null,
   "id": "e47eb2f9",
   "metadata": {},
   "outputs": [],
   "source": [
    "# Tuples are a slimmer version of lists:\n",
    "tup = (1, 3, 4)\n",
    "print(tup)"
   ]
  },
  {
   "cell_type": "markdown",
   "id": "e125adb2",
   "metadata": {},
   "source": [
    "Tuples are immutable, so you can't do much more than initialize them and access the values. This allows lots of optimizations, so for performance reasons one should use tuples wherever possible (and future-proof)."
   ]
  },
  {
   "cell_type": "code",
   "execution_count": null,
   "id": "40e35d6b",
   "metadata": {},
   "outputs": [],
   "source": [
    "# Then, there's dictionaries (like HashMaps in Java):\n",
    "mydict = {\"key\": \"value\", \"a\": 5, \"stuff\": \"great\", 7: \"seven\"}\n",
    "print(mydict)\n",
    "print(mydict[\"stuff\"])\n",
    "mydict[\"stuff\"] = \"eh, not so great\"\n",
    "print(mydict[\"stuff\"])"
   ]
  },
  {
   "cell_type": "code",
   "execution_count": null,
   "id": "33425592",
   "metadata": {},
   "outputs": [],
   "source": [
    "# As with lists, in allows to check whether a key exists in a dictionary:\n",
    "print(\"stuff\" in mydict)\n",
    "print(\"newkey\" in mydict)\n",
    "mydict[\"newkey\"] = \"newvalue\"\n",
    "print(\"newkey\" in mydict)\n",
    "print(mydict[\"newkey\"])"
   ]
  },
  {
   "cell_type": "code",
   "execution_count": null,
   "id": "641d2526",
   "metadata": {},
   "outputs": [],
   "source": [
    "# A dictionary can also be initialized directly from a tuple of tuples:\n",
    "mydict2 = dict(((\"7\", \"seven\"), (\"eight\", 8)))\n",
    "print(mydict2)"
   ]
  },
  {
   "cell_type": "markdown",
   "id": "85ea1406",
   "metadata": {},
   "source": [
    "## Task 2"
   ]
  },
  {
   "cell_type": "code",
   "execution_count": null,
   "id": "65141bbe",
   "metadata": {},
   "outputs": [],
   "source": [
    "# From the list mylist (which is a 3x3 array like the one returned by create_3x3_list_different), create\n",
    "# a dictionary. In this dictionary, each of the values from mylist should be assigned to a key that is a string\n",
    "# (e.g. \"a\", \"z\" etc. - it does not matter which letters you choose)\n",
    "def convert_to_dict(mylist):\n",
    "    result = None\n",
    "    # Do things here\n",
    "    return result"
   ]
  },
  {
   "cell_type": "markdown",
   "id": "24445344",
   "metadata": {},
   "source": [
    "## Test of your solutions to task 2\n",
    "\n",
    "The fourth method ````test_convert_to_dict```` has to return \"ok\" (not \"FAIL\", not \"ERROR\")."
   ]
  },
  {
   "cell_type": "code",
   "execution_count": null,
   "id": "c92f05a4",
   "metadata": {},
   "outputs": [],
   "source": [
    "class TestNotebook2(unittest.TestCase):\n",
    "      def test_convert_to_dict(self):\n",
    "        result = convert_to_dict([[0,0,0], [0,0,0], [0,0,0]])\n",
    "        self.assertIsNotNone(result)\n",
    "        self.assertTrue(isinstance(result, dict), \"Result is not a dictionary\")\n",
    "        self.assertEqual(len(result), 3, \"Length of result was expected to be 3 but is \" + str(len(result)))\n",
    "        for i in result.keys():\n",
    "            self.assertTrue(isinstance(i, str), \"Key \" + str(i) + \" is not a string\")\n",
    "            self.assertTrue(isinstance(result[i], list), \"Value \" + str(result[i]) + \" (at key \" + str(i) +\n",
    "                            \") is not an array\")\n",
    "            self.assertEqual(len(result[i]), 3,\n",
    "                             \"Length of element \\\"\" + i + \"\\\" of result was expected to be 3 but is \" +\n",
    "                             str(len(result[i])))\n",
    "unittest.main(argv=[''], verbosity=2, exit=False)\n"
   ]
  },
  {
   "cell_type": "markdown",
   "id": "a75a647c",
   "metadata": {},
   "source": [
    "## Lesson 3 – Sets & Strings"
   ]
  },
  {
   "cell_type": "code",
   "execution_count": null,
   "id": "f4c2d248",
   "metadata": {},
   "outputs": [],
   "source": [
    "# A set is a, well, set and can only contain each value once:\n",
    "\n",
    "myset = set()\n",
    "myset.add(15)\n",
    "myset.add(\"blub\")\n",
    "print(myset)\n",
    "myset.add(14)\n",
    "myset.add(15)\n",
    "print(myset)\n",
    "\n",
    "# === Strings ===\n",
    "# Python has some very useful string manipulation methods, so it is often used to perform simple (or not-so-simple)\n",
    "# string/text file manipulation tasks (which, as we'll see, is very useful in bioinformatics)\n",
    "\n",
    "# Possible string delimiters are \", ', or (for multiline strings) \"\"\":\n",
    "print('That is useful to avoid having to escape \" characters')\n",
    "\n",
    "dat=\"\"\"Or in order\n",
    "to directly\n",
    "initialize a string with\n",
    "multiple lines\"\"\"\n",
    "print(dat)\n",
    "\n",
    "# There are lots of convenience methods for strings, for instance:\n",
    "\n",
    "dat2 = dat.replace(\"\\n\", \" \")\n",
    "print(dat2)\n",
    "print(dat2.split(\" \"))\n",
    "\n",
    "# There is also regular expression support via the re module, but we're not going to look at that in detail here.\n",
    "\n",
    "# Strings have a very useful method to concatenate tuples and lists:\n",
    "\n",
    "toprint = [\"Those\", \"are\", \"words\"]\n",
    "print(\" \".join(toprint))\n",
    "print(\"--!--\".join(toprint))"
   ]
  },
  {
   "cell_type": "markdown",
   "id": "aeba56d5",
   "metadata": {},
   "source": [
    "## Task 3"
   ]
  },
  {
   "cell_type": "code",
   "execution_count": null,
   "id": "da313568",
   "metadata": {},
   "outputs": [],
   "source": [
    "# Return the num-th character from text.\n",
    "def get_char(text, num):\n",
    "    result = None\n",
    "    return result\n",
    "\n",
    "# Return the num-th word from the sentence sentence (that consists of words separated by spaces).\n",
    "def get_word(sentence, num):\n",
    "    result = None\n",
    "    return result\n",
    "\n",
    "# Return a new string in which the words from the sentence are separated with \"--\" instead of \" \"\n",
    "def join_by_dashes(sentence):\n",
    "    result = None\n",
    "    return result"
   ]
  },
  {
   "cell_type": "markdown",
   "id": "72d14243",
   "metadata": {},
   "source": [
    "## Test of your solutions to task 3\n",
    "\n",
    "The methods ````test_get_char()````, ````test_get_word()```` and ````test_join_by_dashes```` have to return \"ok\" (not \"FAIL\", not \"ERROR\")."
   ]
  },
  {
   "cell_type": "code",
   "execution_count": null,
   "id": "61cd7734",
   "metadata": {},
   "outputs": [],
   "source": [
    "class TestNotebook3(unittest.TestCase):\n",
    "    def test_get_char(self):\n",
    "        for i in range(0, 5):\n",
    "            textlen = random.randint(10,15)\n",
    "            text = ''.join(random.choice(string.ascii_letters + \" \") for _ in range(textlen))\n",
    "            pos = random.randint(0,textlen-1)\n",
    "            result = get_char(text, pos)\n",
    "            self.assertIsNotNone(result)\n",
    "            self.assertTrue(isinstance(result, str), \"Result is not a string\")\n",
    "            self.assertEqual(result, text[pos], str(pos) + \"tes Element von \\\"\" + text + \"\\\" sollte \" + text[pos] +\n",
    "                             \" sein, ist aber \\\"\" + result + \"\\\"\")\n",
    "\n",
    "    def test_get_word(self):\n",
    "        for i in range(0, 5):\n",
    "            wordnum = random.randint(3,8)\n",
    "            words = []\n",
    "            for i in range(wordnum):\n",
    "                words += [''.join(random.choice(string.ascii_letters) for _ in range(random.randint(5,10)))]\n",
    "            pos = random.randint(0,wordnum-1)\n",
    "            text = \" \".join(words)\n",
    "            result = get_word(text, pos)\n",
    "            self.assertIsNotNone(result)\n",
    "            self.assertTrue(isinstance(result, str), \"Result is not a string\")\n",
    "            self.assertEqual(result, words[pos], str(pos) + \"tes Wort von \\\"\" + text + \"\\\" sollte \" + words[pos] +\n",
    "                             \" sein, ist aber \\\"\" + result + \"\\\"\")\n",
    "\n",
    "    def test_join_by_dashes(self):\n",
    "        for i in range(0, 5):\n",
    "            wordnum = random.randint(3,8)\n",
    "            words = []\n",
    "            for i in range(wordnum):\n",
    "                words += [''.join(random.choice(string.ascii_letters) for _ in range(random.randint(5,10)))]\n",
    "            text = \" \".join(words)\n",
    "            expected = \"--\".join(words)\n",
    "            result = join_by_dashes(text)\n",
    "            self.assertIsNotNone(result)\n",
    "            self.assertTrue(isinstance(result, str), \"Result is not a string\")\n",
    "            self.assertEqual(result, expected, \"Ergebnis \\\"\" + expected +\n",
    "                             \"\\\" sein, ist aber \\\"\" + result + \"\\\"\")\n",
    "            \n",
    "unittest.main(argv=[''], verbosity=2, exit=False)"
   ]
  },
  {
   "cell_type": "markdown",
   "id": "1c5bdcbb",
   "metadata": {},
   "source": [
    "## Lesson 4 &ndash; Strings Special"
   ]
  },
  {
   "cell_type": "code",
   "execution_count": null,
   "id": "c3ded95f",
   "metadata": {},
   "outputs": [],
   "source": [
    "# There is a specification language for formatting strings.\n",
    "# {} are used as placeholders for variables:\n",
    "x = 12\n",
    "y = 4\n",
    "print(\"the value of y: {} minus the value of x: {} is: {}\".format(y, x, y-x))\n",
    "\n",
    "# The positions of the values in the argument list of format() that are to be used can be\n",
    "# specified within {}:\n",
    "print(\"y: {1}, x: {0}\".format(x, y))\n",
    "\n",
    "# The nice thing about that: Positions can be repeated:\n",
    "print(\"{0}{1}{0}\".format(\"abra\", \"cad\"))\n",
    "\n",
    "# Number formats can be defined:\n",
    "print(\"723 in binary: {0:b} and hex: {0:X}\".format(723))\n",
    "\n",
    "# Side note: That can be used to show the results of binary operations:\n",
    "print(\"1: {:b}, 1<<2: {:b}, 60: {:b}, ~60: {:b} (dezimal: {}), 13: {:b}, 60&13: {:b}, 60|13: {:b} etc...\".format(1, 1<<2, 60, ~60, ~60, 13, 60&13, 60|13))\n",
    "# Question: Can anyone explain why ~60==-61?\n",
    "\n",
    "# Alignment and padding characters can be specified:\n",
    "print(\"y with 10 places and right aligned: {0:>10}, left aligned: {0:<10}, centered: {0:^10} and right aligned, padded with 0: {0:0>10}\".format(y))"
   ]
  },
  {
   "cell_type": "markdown",
   "id": "8df8160d",
   "metadata": {},
   "source": [
    "## Lesson 5 &ndash; Flow Control"
   ]
  },
  {
   "cell_type": "markdown",
   "id": "a49f3439",
   "metadata": {},
   "source": [
    "flow control structures work as expected.\n",
    "\n",
    "__New__:\n",
    "* the beginning of a block is shown by a : after the control structure\n",
    "* indentation is syntactically relevant (shows the length of a block) and must be consistent throughout the code (sometimes 3, sometimes 4 spaces does not work)"
   ]
  },
  {
   "cell_type": "code",
   "execution_count": null,
   "id": "c3f3532e",
   "metadata": {},
   "outputs": [],
   "source": [
    "y = 12\n",
    "if y > 10:\n",
    "    y -= 3\n",
    "elif y <= 10:\n",
    "    y += 10\n",
    "else:\n",
    "    print(\"This is impossible!\")\n",
    "print(y)\n",
    "\n",
    "# This would not work due to missing indentation:\n",
    "#if y > 10:\n",
    "#print(\"y immer noch groesser 10\")"
   ]
  },
  {
   "cell_type": "code",
   "execution_count": null,
   "id": "47bc56eb",
   "metadata": {},
   "outputs": [],
   "source": [
    "# While just does what while usually does:\n",
    "\n",
    "y=10\n",
    "while y > 5:\n",
    "    print(y)\n",
    "    y -= 1"
   ]
  },
  {
   "cell_type": "code",
   "execution_count": null,
   "id": "397884a1",
   "metadata": {},
   "outputs": [],
   "source": [
    "# for, however, is used specifically for iteration (as the \":\" version of for in Java):\n",
    "\n",
    "letters = [\"a\", \"b\", \"c\"]\n",
    "for letter in letters:\n",
    "    if letter == \"a\":\n",
    "        print(\"AAAAAAAAA\")\n",
    "    print(letter)"
   ]
  },
  {
   "cell_type": "code",
   "execution_count": null,
   "id": "b1f3e7db",
   "metadata": {},
   "outputs": [],
   "source": [
    "# One can iterate over everything that is an iterable (strings among other things):\n",
    "print(range(2,7))\n",
    "for x in range(2,7):\n",
    "    print(x)\n",
    "\n",
    "for x in range(0,10,3):\n",
    "    print(x)\n",
    "\n",
    "for key in mydict:\n",
    "    print(str(key) + \": \" + str(mydict[key]))\n",
    "\n",
    "for item in mydict.items():\n",
    "    print(item)"
   ]
  },
  {
   "cell_type": "markdown",
   "id": "dd1e39db",
   "metadata": {},
   "source": [
    "## Task 4 &ndash; Combining it all"
   ]
  },
  {
   "cell_type": "code",
   "execution_count": null,
   "id": "81c67acc",
   "metadata": {},
   "outputs": [],
   "source": [
    "# Return an array that contains all the letters from text, e.g. text=\"test\", result=[\"t\", \"e\", \"s\", \"t\"]\n",
    "def text_to_array(text):\n",
    "    result = None\n",
    "    return result\n",
    "\n",
    "# Return an array just like the one from text_to_array, but containing each unique letter only once,\n",
    "# e.g. text = \"test\", result = [\"t\", \"e\", \"s\"]. Hint: Remember the operator \"in\"\n",
    "def text_to_unique_array(text):\n",
    "    result = None\n",
    "    return result\n",
    "\n",
    "# Invert the text, e.g. text = \"Zeichenkette\", result=\"etteknehcieZ\"\n",
    "def invert_text(text):\n",
    "    result = None\n",
    "    return result\n",
    "\n",
    "# Return an array containing all rotations of the text, e.g.\n",
    "# text = \"test\", result = [\"test\", \"ttes\", \"stte\", \"estt\"]\n",
    "def make_rotations(text):\n",
    "    result = None\n",
    "    return result\n"
   ]
  },
  {
   "cell_type": "markdown",
   "id": "42b27102",
   "metadata": {},
   "source": [
    "## Test of your solutions to task 4\n",
    "\n",
    "The methods ````test_text_to_array()````, ````test_text_to_unique_array()````, ````test_invert_text()```` and ````test_make_rotations`()```` have to return \"ok\" (not \"FAIL\", not \"ERROR\")."
   ]
  },
  {
   "cell_type": "code",
   "execution_count": null,
   "id": "49541780",
   "metadata": {},
   "outputs": [],
   "source": [
    "class TestNotebook4(unittest.TestCase): \n",
    "    def test_text_to_array(self):\n",
    "        for i in range(0, 5):\n",
    "            textlen = random.randint(10,15)\n",
    "            chars = [random.choice(string.ascii_letters + \" \") for _ in range(textlen)]\n",
    "            result = text_to_array(''.join(chars))\n",
    "            self.assertIsNotNone(result)\n",
    "            self.assertTrue(isinstance(result, list), \"Result is not a list\")\n",
    "            self.assertListEqual(result, chars)\n",
    "\n",
    "    def test_text_to_unique_array(self):\n",
    "        result = text_to_unique_array(\"This is a test\")\n",
    "        self.assertIsNotNone(result)\n",
    "        self.assertTrue(isinstance(result, list), \"Result is not a list\")\n",
    "        self.assertListEqual(result, [\"T\", \"h\", \"i\", \"s\", \" \", \"a\", \"t\", \"e\"])\n",
    "\n",
    "    def test_invert_text(self):\n",
    "        result = invert_text(\"Zeichenkette\")\n",
    "        self.assertIsNotNone(result)\n",
    "        self.assertTrue(isinstance(result, str), \"Result is not a string\")\n",
    "        self.assertEqual(result, \"etteknehcieZ\")\n",
    "\n",
    "    def test_make_rotations(self):\n",
    "        result = make_rotations(\"test\")\n",
    "        self.assertIsNotNone(result)\n",
    "        self.assertTrue(isinstance(result, list), \"Result is not a list\")\n",
    "        self.assertListEqual(result, [\"test\", \"estt\", \"stte\", \"ttes\"])\n",
    "        \n",
    "unittest.main(argv=[''], verbosity=2, exit=False)"
   ]
  }
 ],
 "metadata": {
  "kernelspec": {
   "display_name": "Python 3 (ipykernel)",
   "language": "python",
   "name": "python3"
  },
  "language_info": {
   "codemirror_mode": {
    "name": "ipython",
    "version": 3
   },
   "file_extension": ".py",
   "mimetype": "text/x-python",
   "name": "python",
   "nbconvert_exporter": "python",
   "pygments_lexer": "ipython3",
   "version": "3.12.0"
  }
 },
 "nbformat": 4,
 "nbformat_minor": 5
}
